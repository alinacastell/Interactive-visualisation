{
 "cells": [
  {
   "attachments": {},
   "cell_type": "markdown",
   "metadata": {},
   "source": [
    "**PROJECT 2 - VISUALIZATION INFORMATION**\n",
    "\n",
    "AUTHORS:\n",
    "\n",
    "    ALINA CASTELL BLASCO    \n",
    "    GERARD MARTIN PEY   \n",
    "    JOSE ÀNGEL MOLA AUDÍ"
   ]
  },
  {
   "cell_type": "code",
   "execution_count": 1,
   "metadata": {
    "id": "Of112IoTaIRF",
    "outputId": "7e874bb2-3919-41e2-8b5e-20dfb64456e6"
   },
   "outputs": [],
   "source": [
    "!pip install geopandas\n",
    "!pip install folium"
   ]
  },
  {
   "cell_type": "code",
   "execution_count": 1,
   "metadata": {
    "id": "oF3evySHXax1"
   },
   "outputs": [],
   "source": [
    "import pandas as pd\n",
    "import altair as alt\n",
    "import folium  # used for plotting the map of Barcelona\n",
    "import pprint\n",
    "import geopandas as gpd"
   ]
  },
  {
   "cell_type": "markdown",
   "metadata": {
    "id": "r3HYlcqdx_0l"
   },
   "source": [
    "**Preprocessing:**\n",
    "\n",
    "- First of all we selected the 10 departments we were going to study. A little investigation was needed in those to ensure the charts will be rich enough. Those meant ensuring that the locations were diverse enough and that we compared departments having different methodologies when it comes to publications.\n",
    "\n",
    "- After chosing the departments, we searched more information such as the the number of employees grouped by categories, the school, the location of their section that could enrich more the visualization,etc.\n",
    "\n",
    "- Later we did an inner join of these departments with the initial data set in order to obtain only information from the requested departments.\n",
    "\n",
    "- Finally, we put the Research Group acronyms as a column of the DataFrame.\n",
    "\n",
    "**Questions to interactively answer:**\n",
    "\n",
    "1) Visual comparison of the number of publications along time of two departments interactively selected.\n",
    "\n",
    "2) Interactive map of Catalonia/Barcelona with points of the locations of departments.\n",
    "\n",
    "3) Interactive visualization for the stats of a department.\n",
    "\n",
    "4) Interactive chart of the publications vs department size.\n",
    "\n",
    "5) Visual comparison of the number of publications along time with a slider on average publications per year.\n",
    "\n",
    "6) Interactive chart of the intersection of the selected 10 departments with the 40 areas of research with more production."
   ]
  },
  {
   "cell_type": "code",
   "execution_count": 2,
   "metadata": {
    "id": "rnbJ4reuXfDs"
   },
   "outputs": [],
   "source": [
    "alt.data_transformers.disable_max_rows()\n",
    "data = pd.read_csv(\"DATA-RESEARCH_DEFINITIU.csv\", delimiter = \";\")\n",
    "selection = [\"TSC\", \"FIS\", \"PA\", \"MAT\", \"CS\", \"EM\", \"OO\", \"DEGE\", \"DCMEM\", \"DECA\"]\n",
    "departments = pd.DataFrame(selection, columns = [\"DEPARTMENTS\"])"
   ]
  },
  {
   "cell_type": "code",
   "execution_count": 3,
   "metadata": {
    "id": "A6n0EJQXXhSq"
   },
   "outputs": [],
   "source": [
    "data_proj2 = pd.merge(data,departments,how='inner',left_on=['DEPT ACRONIMS'],right_on=['DEPARTMENTS'])\n",
    "data_proj2 = data_proj2.drop([\"DEPARTMENTS\"], axis = 1)\n",
    "l = data[\"GRUP DE RECERCA UPC\"].unique()\n",
    "acronims_grups = {}\n",
    "for elem in l:\n",
    "    if type(elem) == str:\n",
    "        acronims_grups[elem] = elem.split()[0]\n",
    "acronym = pd.DataFrame(acronims_grups.items(), columns = [\"Name\", \"GRUP DE RECERCA UPC ACRONIM\"])\n",
    "data_proj2 = pd.merge(data_proj2,acronym,how='inner',left_on=['GRUP DE RECERCA UPC'],right_on=['Name'])\n",
    "data_proj2.drop([\"Name\"], axis = 1)\n",
    "data_proj2 = data_proj2[[\"DATA PUBLICACIO\", \"ID_ARTICLE\", \"ISSN REVISTA\", \"GRUPS ÀMBITS\", \"ÀMBIT CONEIXEMENT DE LA REVISTA\", \"ID_AUTOR\", \"DEPT ACRONIMS\", \"GRUP DE RECERCA UPC\"]]"
   ]
  },
  {
   "cell_type": "code",
   "execution_count": 4,
   "metadata": {
    "id": "a3l25Y3eXjz0"
   },
   "outputs": [],
   "source": [
    "data1 = data_proj2\n",
    "data1[\"FULL DATE\"] = pd.DatetimeIndex(data1['DATA PUBLICACIO']).day.map(str) + '-' + pd.DatetimeIndex(data1['DATA PUBLICACIO']).month.map(str) + '-' + pd.DatetimeIndex(data1['DATA PUBLICACIO']).year.map(str)\n",
    "data1 = data1.drop_duplicates(subset = [\"ID_ARTICLE\"])"
   ]
  },
  {
   "cell_type": "markdown",
   "metadata": {
    "id": "QaLnPiSGx_0m"
   },
   "source": [
    "Also, we define the table with information obtained from UPC sources about the members of each of the 10 selected departments."
   ]
  },
  {
   "cell_type": "code",
   "execution_count": null,
   "metadata": {
    "id": "k3HKVfWvx_0m",
    "outputId": "805af750-9db2-4de9-a3a6-a75685ed45eb"
   },
   "outputs": [],
   "source": [
    "# Dataset with info about members of the departments\n",
    "table = pd.read_csv(\"tauladept.csv\", delimiter = \";\", decimal=\",\")\n",
    "table"
   ]
  },
  {
   "cell_type": "markdown",
   "metadata": {
    "id": "ey18Y4m-YAVG"
   },
   "source": [
    "**QUESTION 1:**\n",
    "\n",
    "Firstly we had a very different idea than what we finally got. We wanted to take advantage of the fact that the departments were greatly reduced and for this reason, we have used a line chart that shows the progression of each department for each year. With the interactivity we have been able to compare each department well with another and see their behavior with respect to the average.\n",
    "\n",
    "To have the average of the departments per year, we had to create this dataframe:"
   ]
  },
  {
   "cell_type": "code",
   "execution_count": null,
   "metadata": {
    "id": "ZfbbTlxfx_0n",
    "outputId": "45112eb5-0649-492e-df67-f193c8c7df54"
   },
   "outputs": [],
   "source": [
    "data1[\"Year\"] = pd.DatetimeIndex(data1['DATA PUBLICACIO']).year.map(int)\n",
    "data_year_mean = (data1.groupby(['Year'])['Year'].count()/len(departments)).reset_index(name='Mean')"
   ]
  },
  {
   "cell_type": "markdown",
   "metadata": {
    "id": "XqBEwUZZx_0n"
   },
   "source": [
    "However, we had an initial doubt about what the aggregation level of the chart would be. We've checked and have a total of 2874 different dates where we initially saw it as a good idea to consider days instead of years so we could get a deeper breakdown of everything:"
   ]
  },
  {
   "cell_type": "code",
   "execution_count": null,
   "metadata": {
    "id": "OYojKFyPx_0n",
    "outputId": "be12a40c-c693-4c4b-b3f9-d4206e5f8463"
   },
   "outputs": [],
   "source": [
    "data_list = data1[\"FULL DATE\"].unique()\n",
    "print(data_list)\n",
    "print(\"We have %d different dates\" % len(data_list))"
   ]
  },
  {
   "cell_type": "markdown",
   "metadata": {
    "id": "FfI8qgwUx_0n"
   },
   "source": [
    "But, we were able to see how this was not a good idea:"
   ]
  },
  {
   "cell_type": "code",
   "execution_count": null,
   "metadata": {
    "id": "IsQr2krqx_0n",
    "outputId": "de81f102-9118-43e9-bdc1-366bcd4a11b9"
   },
   "outputs": [],
   "source": [
    "multi_sel = alt.selection_multi(fields = [\"DEPT ACRONIMS\"], bind = \"legend\", name = \"DEPTS\")\n",
    "\n",
    "line_agg = alt.Chart(data1).mark_line(size = 2).encode(\n",
    "    x=alt.X('FULL DATE:T', title = \"Years\"),\n",
    "    y=alt.Y('count(DEPT ACRONIMS):Q', title = \"Number of articles\", scale=alt.Scale(domain=(0, 100))),\n",
    "    color=alt.condition(multi_sel, alt.Color('DEPT ACRONIMS:N', legend = alt.Legend(columns=1), title = \"Departments\", scale = alt.Scale(scheme=\"category20\")), alt.value(\"transparent\"))\n",
    ").properties(width=800,height=400).properties(title = 'Production of departments among all years')\n",
    "\n",
    "\n",
    "mean = alt.Chart(data_year_mean).mark_line(size = 4,color = 'yellow').encode(\n",
    "    y = alt.Y('Mean:Q'),\n",
    "    x = alt.X('FULL DATE:N'),\n",
    "    opacity = alt.value(0.5)\n",
    ")\n",
    "\n",
    "line_aux_agg = alt.Chart(data1).mark_line(size = 2).encode(\n",
    "    x=alt.X('FULL DATE:T', title = \"Years\"),\n",
    "    y=alt.Y('count(DEPT ACRONIMS):Q', title = \"Number of articles\"),\n",
    "    color=alt.condition(multi_sel, alt.Color('DEPT ACRONIMS:N', legend = alt.Legend(columns=1), title = \"Departments\", scale = alt.Scale(range=['transparent'])), alt.value(\"lightgray\"))\n",
    ").properties(width=800,height=400)\n",
    "\n",
    "exercise_1_agg = alt.layer(line_agg+line_aux_agg+line_agg).interactive().add_selection(multi_sel)\n",
    "exercise_1_agg"
   ]
  },
  {
   "cell_type": "markdown",
   "metadata": {
    "id": "IJCP8t6Kx_0o"
   },
   "source": [
    "As we can see, we have peaks at the beginning of each year since many documents are dated incorrectly and put as generic the value of the first day of the year, in addition we can appreciate a large overlap.\n",
    "\n",
    "So we add the year to every observation:\n",
    "\n",
    "Therefore, we proceed to treat the data as annual, that is, our variables are as follows:\n",
    "\n",
    "- x to know the year\n",
    "- and to know the number of documents from each department\n",
    "- color to know which department we are dealing with\n",
    "\n",
    "It should be noted that when a selection is made, the rest of the selected elements become gray, so that our vision focuses only on the selected one, but we can also see what the behavior of the selected department is with respect to the rest. There is a line of an opaque yellow color that always remains, this is the average of the departments.\n",
    "\n",
    "\n",
    "Now we will discuss how we made the plot so that it comes out as we said. We added two plots:\n",
    "\n",
    "- One when we select departments, the lines of the selected ones appear with the corresponding color and those of the unselected ones disappear.\n",
    "- One when we select departments, those that are selected disappear and those that are not selected become gray.\n",
    "\n",
    "This sum produces the result we want, but we had to deal with the fact that sometimes the unselected ones overlapped the selected ones and you could see the gray lines on top of the colored ones. We have solved this by adding the first graph at the end, so we make sure that the color ones are on top, which is what we are interested in.\n",
    "\n",
    "\n",
    "The selected palette has been one that does not contain yellow or gray, in order to see everything more clearly."
   ]
  },
  {
   "cell_type": "code",
   "execution_count": null,
   "metadata": {
    "colab": {
     "base_uri": "https://localhost:8080/",
     "height": 481
    },
    "id": "t4CCNnXhXxUr",
    "outputId": "b7fcc886-db3f-4f3b-ea73-49dbf0fc01d2"
   },
   "outputs": [],
   "source": [
    "multi_sel = alt.selection_multi(fields = [\"DEPT ACRONIMS\"], bind = \"legend\", name = \"DEPTS\")\n",
    "\n",
    "line = alt.Chart(data1).mark_line(size = 2).encode(\n",
    "    x=alt.X('Year:N', title = \"Years\", axis = alt.Axis(labelAngle=-45)),\n",
    "    y=alt.Y('count(DEPT ACRONIMS):Q', title = \"Number of articles\"),\n",
    "    color=alt.condition(multi_sel, alt.Color('DEPT ACRONIMS:N', legend = alt.Legend(columns=1), title = \"Departments\", scale = alt.Scale(scheme=\"category20\")), alt.value(\"transparent\"))\n",
    ").properties(width=800,height=400).properties(title = 'Production of departments among all years')\n",
    "\n",
    "mean = alt.Chart(data_year_mean).mark_line(size = 4,color = 'yellow').encode(\n",
    "    y = alt.Y('Mean:Q'),\n",
    "    x = alt.X('Year:N'),\n",
    "    opacity = alt.value(0.5)\n",
    ")\n",
    "\n",
    "line_aux = alt.Chart(data1).mark_line(size = 2).encode(\n",
    "    x=alt.X('Year:N', title = \"Years\"),\n",
    "    y=alt.Y('count(DEPT ACRONIMS):Q', title = \"Number of articles\"),\n",
    "    color=alt.condition(multi_sel, alt.Color('DEPT ACRONIMS:N', legend = alt.Legend(columns=1), title = \"Departments\", scale = alt.Scale(range=['transparent'])), alt.value(\"lightgray\"))\n",
    ").properties(width=800,height=400)\n",
    "\n",
    "exercise_1 = alt.layer(line+line_aux+line+mean).interactive().add_selection(multi_sel)\n",
    "exercise_1"
   ]
  },
  {
   "cell_type": "markdown",
   "metadata": {
    "id": "Bds0mZ1kbvTC"
   },
   "source": [
    "**QUESTION 2:**"
   ]
  },
  {
   "cell_type": "markdown",
   "metadata": {
    "id": "kdXVrbkeb0Ht"
   },
   "source": [
    "- First of all we decided to pick light grey as a background color for the map because is a soft color that helps to highlight other colors placed on it.\n",
    "- After taht, we selected the adresses provided by Futur of each of the ten departments chosen. However, most of them were located too near, leading to clutter and oclusion in the map. \n",
    "- Therefore, we decided to restrict the map to only the regions of Catalonia that had departments located in them, in order to make a better use of space and be able to zoom in the area of interest.\n",
    "- Due to the closeness of most departments, clutter was still an issue. We opted then for taking into account adresses of department sections. By doing that we were able to enrich the visualization through adding new locations to the map.\n",
    "- At one point we intended to show all the sections of departments in the map and place lines between sections of the same department to see in how many locations each of them is present. Nevertheless, by only trying that with two departments, clutter lead to poor visualization. Consequently, we decided to discard this option.\n",
    "- Some clutter was still visible. However, bearing in mind that UPC schools are not distributed between more than ten regions among Catalonia, this is inevitable. We considered therefore this one to be a proper distribution for the points. However, there was oclusion between two departments; we solved that by changing a little bit the coordinates of one of them, making cliking and hovering available for both.\n",
    "- When it comes to marks and in order to add visually attractive variables, we decided to substitute the typical points for emojis that represented the discipline related to each department. Therefore, as the legend only accepts colors keeping for this chart has no sense as it is not providing information, so we decided to erase it."
   ]
  },
  {
   "cell_type": "code",
   "execution_count": 10,
   "metadata": {
    "id": "CnDFb2T9cKBl"
   },
   "outputs": [],
   "source": [
    "# Redefine the previously defined table with information about department members\n",
    "df2 = table\n",
    "\n",
    "# Grouping dataset by departments\n",
    "df1_grouped = data_proj2.groupby(\"DEPT ACRONIMS\", sort=True, as_index=False).nunique()\n",
    "\n",
    "# Ensuring that the key has the same spelling in both datasets\n",
    "df2 = df2.rename(columns={\"DeptAcronym\": \"DEPT ACRONIMS\"})\n",
    "df1_grouped = df1_grouped.rename(columns={\"DEPT ACRONIMS\": \"DEPT ACRONIMS\"})\n",
    "\n",
    "# Merging using departments as keys\n",
    "df = pd.merge(df1_grouped,df2, how=\"inner\", on=\"DEPT ACRONIMS\")\n",
    "df = df.rename(columns={\"ID_ARTICLE\":\"Number of publications\", \"ISSN REVISTA\":\"Magazines\", \"ÀMBIT CONEIXEMENT DE LA REVISTA\":\"Research fields\", \"ID_AUTOR\":\"Number of authors\",\"GRUP DE RECERCA UPC\": \"Research groups\"})\n",
    "\n",
    "# Adding emojis to use as markers\n",
    "df['emoji'] = [{'CS':'💻', 'DCMEM':'🧱', 'DECA':'🛠️', 'DEGE':'🎨', 'EM':'🔧', 'FIS':'👩‍🔬', 'MAT':'➕', 'OO':'👓', 'PA':'🏙️', 'TSC':'📱'}[dept] for dept in df['DEPT ACRONIMS']]"
   ]
  },
  {
   "cell_type": "code",
   "execution_count": null,
   "metadata": {
    "colab": {
     "base_uri": "https://localhost:8080/",
     "height": 351
    },
    "id": "_lg01VrTcSPw",
    "outputId": "d0687742-04c3-4a78-b89f-178542b5ed80"
   },
   "outputs": [],
   "source": [
    "# Read the map of Catalonia\n",
    "choro_data = gpd.read_file('comarques-compressed.geojson')\n",
    "choro_data = choro_data.loc[choro_data['nom_comar'].isin(['Barcelonès','Vallès Occidental','Garraf','Baix Llobregat', 'Bages'])]\n",
    "\n",
    "# Create a selection\n",
    "xSel = alt.selection_single(encodings = ['color'], fields = [\"DEPT ACRONIMS\"],empty = 'none')\n",
    "\n",
    "background = alt.Chart(choro_data).mark_geoshape(fill = 'lightgray', stroke = 'white').properties(width = 300, height = 500)\n",
    "points = alt.Chart(df).mark_text(filled=True).encode( #,tooltip={'content':'data'}\n",
    "    longitude = 'Longitude:Q',\n",
    "    latitude = 'Latitude:Q',\n",
    "    size = alt.SizeValue(15),\n",
    "    text='emoji',\n",
    "    color = alt.condition(xSel, alt.Color('DEPT ACRONIMS:N', legend=None), alt.value('black')),\n",
    "    tooltip = ['DeptName:N', 'Number of authors:Q', 'Number of publications:Q' ,'Total:Q', 'Faculty:Q', 'Associate:Q', 'Beca:Q', 'Other:Q', 'Location:N', 'School:N']\n",
    ").add_selection(\n",
    "    xSel\n",
    ").properties(\n",
    "    title = 'Location of UPC Departments'\n",
    ").properties(width = 300, height = 500)\n",
    "\n",
    "exercise_2 = background+points\n",
    "exercise_2"
   ]
  },
  {
   "cell_type": "markdown",
   "metadata": {
    "id": "NbwNHmG1cWVZ"
   },
   "source": [
    "**QUESTION 3:**"
   ]
  },
  {
   "cell_type": "markdown",
   "metadata": {
    "id": "gKoJ83A2cagQ"
   },
   "source": [
    "- The first idea was to represent some variables about each department using a line chart to show their evolution among years. However, this design was too simple and already used in the vis.\n",
    "- We decided then to switch to a different design that used a slider for years. This way we were able to show more clearly how was data for each department at each month of a given year.\n",
    "- Additionally, we opted also for using bars instead of lines. As we wanted to show more variables we considered to be a good idea to use a grouped bar chart, showing diferent data per month.\n",
    "- We added also a selection into the legend to provide the user with the power of selecting which stats are more interesting for him/her to visualize. Initially all four variables are selected and the user can select a subset of them by clicking to them in the legend of the grouped bar chart (remeber that for the first selection is enough to click but for the rest of them ).\n",
    "- As there is no data provided for certain months and departments (months where that department had no publications), the chart initially did not consider those months to exist, consequently removing the columns representing them. This was not an issue initially as we considered that not showing empty months was a useful method to use space efficiently. However, when it comes to the final visualization, having a chart of changing size is a trouble. Due to this fact, we decided to make the number of columns fixed for every year, stat and department (always 12 columns; 1 per month) even if some of them were 0. We had to modify the dataframe adding rows with stat value 0 to do so.\n",
    "- Zoom is provided into the chart to be able to appreciate better the low stats. Slicing up zooms out whereas slicing down zooms in. To move up or down in the chart one has to click and move the slice in the direction he/she wants to go.\n",
    "- Following the statment, the stats showed are the ones from the selected department in the map.\n",
    "- Lastly, the chart vanished when the selection was empty, as, for the same reason explained before, when there are no entries, the empty columns are erased, leaving the chart without any of them. In order to solve that, we tried to add the means of the ten departments for each month in each stat.\n",
    "- We have not been able to get the average lines to appear, despite the code seems appropiate (the cause remains unknown). Nevertheless, layering the averages chart with the grouped bar chart results in solving the size problem, showing all empty columns when the selection is empty. Therefore we have decided to leave that part of code. "
   ]
  },
  {
   "cell_type": "code",
   "execution_count": null,
   "metadata": {
    "id": "MK5BVWJ6cpxu",
    "outputId": "aa13358b-8c3d-410b-e359-3bd15427ba65"
   },
   "outputs": [],
   "source": [
    "df3 = data_proj2[[\"DEPT ACRONIMS\",\"ID_ARTICLE\", \"ISSN REVISTA\", \"ÀMBIT CONEIXEMENT DE LA REVISTA\", \"ID_AUTOR\", \"GRUP DE RECERCA UPC\"]]\n",
    "# Extract the year and the month of the publication date\n",
    "df3[\"Year\"] = data_proj2[\"DATA PUBLICACIO\"].str.split(r'\\D').str.get(2)\n",
    "df3[\"Month\"] = data_proj2[\"DATA PUBLICACIO\"].str.split(r'\\D').str.get(1)\n",
    "# Groupby department,year and month\n",
    "df3_grouped = df3.groupby([\"DEPT ACRONIMS\", \"Month\", \"Year\"], sort=True, as_index=False).nunique()\n",
    "df3_grouped = df3_grouped.rename(columns={\"ID_ARTICLE\":\"Publications\", \"ISSN REVISTA\":\"Magazines\", \"ÀMBIT CONEIXEMENT DE LA REVISTA\":\"Research fields\", \"ID_AUTOR\":\"Authors\",\"GRUP DE RECERCA UPC\": \"Research groups\"})\n",
    "# Typos\n",
    "df3_grouped[\"Year\"] = pd.to_numeric(df3_grouped[\"Year\"])\n",
    "df3_grouped[\"Month\"] = pd.to_numeric(df3_grouped[\"Month\"])"
   ]
  },
  {
   "cell_type": "code",
   "execution_count": 13,
   "metadata": {
    "id": "9HSLwc2dx_0p"
   },
   "outputs": [],
   "source": [
    "\"\"\" Updates the given parameters according to the order that the gouped dataset follows. In order\n",
    "to follow that order the first parameter updated is the year, followed by the month and the department.\n",
    "Parameters:\n",
    "    d: Department Acronym\n",
    "    m: Month of the year\n",
    "    y: Year between 2010 and 2022\n",
    "\"\"\"\n",
    "def update(d,m,y,i):\n",
    "    depts = [\"CS\",\"DCMEM\", \"DECA\", \"DEGE\", \"EM\", \"FIS\", \"MAT\",\"OO\",\"PA\", \"TSC\"]\n",
    "    y = y+1\n",
    "    if y>2022:\n",
    "        y = 2010\n",
    "        m = m+1\n",
    "        if m>12:\n",
    "            m = 1\n",
    "            if i<len(depts)-1:\n",
    "                d = depts[i+1]\n",
    "            i = i+1\n",
    "    return d,m,y,i\n",
    "        "
   ]
  },
  {
   "cell_type": "code",
   "execution_count": 14,
   "metadata": {
    "id": "iptTLYt_x_0p"
   },
   "outputs": [],
   "source": [
    "# In order to avoid vanishing columns we had to create entries for every combination (department, month, year)\n",
    "year = 2010\n",
    "month = 1\n",
    "dept= \"CS\"\n",
    "# Dataframe to store needed non existing combinations of (dept, month, year)\n",
    "df_aux = pd.DataFrame(columns = ['DEPT ACRONIMS', 'Month','Year', 'Publications', 'Magazines','Research fields','Authors', 'Research groups'])\n",
    "# Index to traverse department vector in the function 'update'\n",
    "i = 0\n",
    "# Traverse the DF\n",
    "for index,row in df3_grouped.iterrows():\n",
    "    # Combination not existing in the DF when it is supposed to\n",
    "    while dept!=row['DEPT ACRONIMS'] or month!=row['Month'] or year!=row['Year']:\n",
    "        # Add the combination setting the stats to 0\n",
    "        df_aux.loc[len(df_aux.index)] = [dept, month, year, 0,0,0,0,0]\n",
    "        dept,month,year,i = update(dept,month, year,i)\n",
    "    dept,month,year,i = update(dept,month, year,i)\n",
    "# Put all the columns in the same df\n",
    "df3_grouped = pd.concat([df3_grouped,df_aux], axis=0)"
   ]
  },
  {
   "cell_type": "code",
   "execution_count": null,
   "metadata": {},
   "outputs": [],
   "source": [
    "df3 = df3[[\"Month\", \"Year\", \"ID_ARTICLE\", \"ISSN REVISTA\", \"ÀMBIT CONEIXEMENT DE LA REVISTA\",  \"ID_AUTOR\", \"GRUP DE RECERCA UPC\"]]\n",
    "average = df3.groupby([\"Month\", \"Year\"], sort=True, as_index=False).nunique()\n",
    "average = average.rename(columns={\"ID_ARTICLE\":\"Avg_Publications\", \"ISSN REVISTA\":\"Avg_Magazines\", \"ÀMBIT CONEIXEMENT DE LA REVISTA\":\"Avg_Research fields\", \"ID_AUTOR\":\"Avg_Authors\",\"GRUP DE RECERCA UPC\": \"Avg_Research groups\"})\n",
    "average[\"Avg_Publications\"] = average[\"Avg_Publications\"]/10\n",
    "average[\"Avg_Magazines\"] = average[\"Avg_Magazines\"]/10\n",
    "average[\"Avg_Research fields\"] = average[\"Avg_Research fields\"]/10\n",
    "average[\"Avg_Authors\"] = average[\"Avg_Authors\"]/10\n",
    "average[\"Avg_Research groups\"] = average[\"Avg_Research groups\"]/10\n",
    "\n",
    "average[\"Year\"] = pd.to_numeric(average[\"Year\"])\n",
    "average[\"Month\"] = pd.to_numeric(average[\"Month\"])\n",
    "\n",
    "average.head(5)"
   ]
  },
  {
   "cell_type": "code",
   "execution_count": null,
   "metadata": {},
   "outputs": [],
   "source": [
    "df3_grouped = pd.merge(df3_grouped,average,how='inner',left_on=['Month', 'Year'],right_on=['Month','Year'])\n",
    "df3_grouped.head(3)"
   ]
  },
  {
   "cell_type": "code",
   "execution_count": null,
   "metadata": {},
   "outputs": [],
   "source": [
    "\n",
    "# Creation of the slider for years\n",
    "slider = alt.binding_range(min=int(min(df3_grouped['Year'])), max=int(max(df3_grouped['Year'])), step=1, name = \"Year\")\n",
    "# Selection of the year\n",
    "sel_year = alt.selection_single(name = \"Year\", fields=['Year'], bind=slider, init={'Year':2022})\n",
    "# Selection desired statistics\n",
    "sel_stats = alt.selection_multi(fields=['Stats'],bind='legend')\n",
    "\n",
    "\n",
    "avg2 = alt.Chart(df3_grouped).mark_rule(color = 'black').encode(\n",
    "    x = alt.X('Stats:N', axis=None),\n",
    "    y = alt.Y('Means:Q', axis=alt.Axis(title='')),\n",
    ").transform_fold(\n",
    "    as_=['Stats', 'Means'],\n",
    "    fold=['Avg_publications','Avg_authors', 'Avg_magazines', 'Avg_res']\n",
    ").transform_filter(\n",
    "    sel_year\n",
    ").transform_filter(\n",
    "    sel_stats\n",
    ").transform_filter(\n",
    "    xSel\n",
    ").properties(\n",
    "    width=50, height = 500\n",
    ")\n",
    "\n",
    "exercise_3 = alt.Chart().mark_bar().encode(\n",
    "    x = alt.X('Stats:N', axis=None),\n",
    "    y = alt.Y('Amount:Q', axis=alt.Axis(title='Amount')),\n",
    "    color = alt.Color('Stats:N', scale=alt.Scale(domain=['Publications','Authors','Magazines','Research fields'])),\n",
    ").properties(\n",
    "    width=50, height = 500\n",
    ").add_selection(\n",
    "    sel_year\n",
    ").add_selection(\n",
    "    sel_stats\n",
    ").transform_fold(\n",
    "    as_=['Stats', 'Amount'],\n",
    "    fold=['Publications','Authors', 'Magazines', 'Research fields']\n",
    ").transform_filter(\n",
    "    sel_year\n",
    ").transform_filter(\n",
    "    sel_stats\n",
    ").transform_filter(\n",
    "    xSel\n",
    ").interactive()\n",
    "\n",
    "\n",
    "c = alt.layer(exercise_3,avg2, data=df3_grouped).facet(column=alt.Column('Month', title=None)\n",
    ").properties(title=alt.TitleParams(text=\"Relevant stats per month\",orient = 'top', anchor = 'middle'))\n",
    "\n",
    "ex = (exercise_2 | c).properties(\n",
    "    resolve = alt.Resolve(scale=alt.LegendResolveMap(color=alt.ResolveMode('independent')))\n",
    ")\n",
    "ex\n"
   ]
  },
  {
   "cell_type": "markdown",
   "metadata": {
    "id": "Q1xOKYajY2W7"
   },
   "source": [
    "**QUESTION 4:** \n",
    "\n",
    "In this question we will rebuild de publications vs department size. In order to make it interactive we will make cross selection.\n",
    "\n",
    "First, what variable do we use for the departments size? In the next table we compare sizes, the one obtained by grouping the number of authors in each department; and the one obtained by UPC sources that states the real number of members in each department."
   ]
  },
  {
   "cell_type": "code",
   "execution_count": null,
   "metadata": {
    "colab": {
     "base_uri": "https://localhost:8080/",
     "height": 363
    },
    "id": "LMXAx4X5YpID",
    "outputId": "e75e8453-33e3-4b81-a2dc-62ca4f703572"
   },
   "outputs": [],
   "source": [
    "# Departments size grouped by Departments and the real size\n",
    "data4 = data_proj2.groupby('DEPT ACRONIMS')['ID_AUTOR'].nunique().reset_index(name='DEPT_SIZE')\n",
    "data4['REAL_SIZE'] = table['Total']\n",
    "data4"
   ]
  },
  {
   "cell_type": "markdown",
   "metadata": {
    "id": "IqSBm1t9Y8NY"
   },
   "source": [
    "We can observe a big difference, the data obtained via UPC is a more reliable source, so for the question we will use the following data. The 'Real Size' obtained from the values of the table and the production of each of the 10 departments from the *csv*."
   ]
  },
  {
   "cell_type": "code",
   "execution_count": null,
   "metadata": {
    "colab": {
     "base_uri": "https://localhost:8080/",
     "height": 363
    },
    "id": "YrSNeVe-Y5tB",
    "outputId": "2ce211f6-9427-42f1-a95f-36356b91057d"
   },
   "outputs": [],
   "source": [
    "data4 = data_proj2.groupby('DEPT ACRONIMS')['ID_ARTICLE'].nunique().reset_index(name='DEPT_PRODUCTION')\n",
    "data4['REAL_SIZE'] = table['Total']\n",
    "data4['LATITUDE'] = table['Latitude']\n",
    "data4['LONGITUDE'] = table['Longitude']\n",
    "data4"
   ]
  },
  {
   "cell_type": "markdown",
   "metadata": {
    "id": "kHQEeAITZBEU"
   },
   "source": [
    "For the question we need a to represent a chart of the previous variables, 'DEPT_PRODUCTION' and 'REAL_SIZE'; and a map of the position of the departments chosen. The map will be used to click on the departments that we want to show on the chart.\n",
    "\n",
    "\n",
    "The first map that we represented was an interactive map that printed the locations of the departments, nevertheless, this map is plotted with 'folium', where departments cannot be clicked. We show it anyway to observe the difference and that it can be represented in many different ways."
   ]
  },
  {
   "cell_type": "code",
   "execution_count": null,
   "metadata": {
    "colab": {
     "base_uri": "https://localhost:8080/",
     "height": 357
    },
    "id": "NlVzfZXqZDCZ",
    "outputId": "b2a946fd-9670-436c-c748-a19fc37e19fe"
   },
   "outputs": [],
   "source": [
    "# plot map\n",
    "# Create a map object of the city of Barcelona\n",
    "barcelona_map= folium.Map(location=[41.38879, 2.15899], zoom_start=12)\n",
    "\n",
    "# Display only accidents where serious injuries where recorded\n",
    "for lat, lng, label in zip(table.Latitude, table.Longitude, table.DeptName.astype(str)):\n",
    "    if label!='0':\n",
    "        folium.features.CircleMarker(\n",
    "            [lat, lng],\n",
    "            radius=3,\n",
    "            color='red',\n",
    "            fill=True,\n",
    "            popup=label,\n",
    "            fill_color='darkred',\n",
    "            fill_opacity=0.6\n",
    "        ).add_to(barcelona_map)\n",
    "\n",
    "# Show map\n",
    "barcelona_map"
   ]
  },
  {
   "cell_type": "markdown",
   "metadata": {
    "id": "BF2lrl87ZGka"
   },
   "source": [
    "Therefore, we create a map that represents the locations of the departments and allowes to click and select them. \n",
    "\n",
    "First we represented the whole province of Barcelona, but the pins where very close to each other and they overlapped. So, we zoomed into the map by chosing only the regions where the departments are located, which are Barcelonès and Vallès Occidental. The final result of the map with only those two regions is shown in the complete visualization."
   ]
  },
  {
   "cell_type": "markdown",
   "metadata": {
    "id": "E4Ostbt7ZK6i"
   },
   "source": [
    "The following code prints the locations of the departments into the previously defined map. These locations are designed to be clicked on, once a department is selected from the map, it is automatically highlighted on the chart next to it. This chart, a scatterplot, shows the number of publications versus the size of each department.\n",
    "\n",
    "Also, both charts are designed to have the mouse hover over the points of departments. On the map it appears only the names of the departments, while on the chart there is also the exact number of publications and size of the department the mouse is over."
   ]
  },
  {
   "cell_type": "code",
   "execution_count": null,
   "metadata": {
    "colab": {
     "base_uri": "https://localhost:8080/",
     "height": 240
    },
    "executionInfo": {
     "elapsed": 7,
     "status": "error",
     "timestamp": 1673110380293,
     "user": {
      "displayName": "Alina Castell Blasco",
      "userId": "05629384569444108008"
     },
     "user_tz": -60
    },
    "id": "B-6dzkYHZPBT",
    "outputId": "9357c16a-1761-454f-afa5-f3eac1b45dbb",
    "scrolled": false
   },
   "outputs": [],
   "source": [
    "# Set selection previously defined\n",
    "xSel\n",
    "# Condition of the cross selection\n",
    "color = alt.condition(xSel,alt.value('red'),\n",
    "                      alt.Color('DEPT ACRONIMS:N',\n",
    "                                scale=alt.Scale(scheme='category20'), title = \"Departments\"))\n",
    "\n",
    "# Use the background defined in the previous question 2\n",
    "\n",
    "# Interactive chart of the location of departments\n",
    "points = alt.Chart(data4).transform_aggregate( \n",
    "    latitude = 'mean(LATITUDE)', longitude = 'mean(LONGITUDE)',\n",
    "    groupby = ['DEPT ACRONIMS']\n",
    ").mark_circle().encode( \n",
    "    longitude = 'longitude:Q', latitude = 'latitude:Q',  \n",
    "    color = color,\n",
    "    tooltip = ['DEPT ACRONIMS']\n",
    ").add_selection(xSel)\n",
    "\n",
    "plot41 = background + points\n",
    "\n",
    "# Ineractive chart of the department size vs publications\n",
    "plot42 = alt.Chart(data4).mark_circle().encode(\n",
    "    x = alt.X('DEPT_PRODUCTION:Q', scale=alt.Scale(domain=[0, 5500], clamp=True), \n",
    "              axis=alt.Axis(labelFontSize=8), title = \"Production\"),\n",
    "    y = alt.Y('REAL_SIZE:Q', scale=alt.Scale(domain=[0, 270]), title = \"Size\"),\n",
    "    opacity = alt.value(0.9),\n",
    "    color = color,\n",
    "    tooltip = [\n",
    "        alt.Tooltip('DEPT ACRONIMS:N', title='Acronim'),\n",
    "        alt.Tooltip('REAL_SIZE:Q', title='Nº Members'),\n",
    "        alt.Tooltip('DEPT_PRODUCTION:Q', title='Nº Publications')],\n",
    "    size = alt.condition(xSel,alt.value(300),alt.value(100))\n",
    ")\n",
    "\n",
    "# Combined plot\n",
    "exercise_4 = plot41 | plot42.properties(width=400,height=500)\n",
    "\n",
    "plot42 = plot42.properties( title = 'Size vs Production of Departments').properties(width=600, height=500)\n",
    "\n",
    "exercise_4.properties(\n",
    "    title = 'Size vs Production of Department selected by Location' \n",
    ").configure_title(\n",
    "    anchor = 'middle'\n",
    ")"
   ]
  },
  {
   "cell_type": "markdown",
   "metadata": {
    "id": "uIxt-lNJx_0q"
   },
   "source": [
    "**QUESTION 5**:\n",
    "\n",
    "We saw this exercise as a kind of visual complement to the first, in which we did it thinking that it would be next to the first in the final visualization. The interactivity allows us to compare the annual production of each department.\n",
    "\n",
    "As an initial idea, we wanted to make a dot plot, but we know that an indispensable condition of this plot is that it must be ordered, and the fact of having a different order for each year would make us lose the perspective of the order . Therefore, we have decided to make a lollipop chart with the departments ordered alphabetically, and for each year add a yellow horizontal line that corresponds to the average of that year.\n",
    "\n",
    "Therefore, the variables are:\n",
    "- x to know the year\n",
    "- y to know the number of documents from each department\n",
    "- color to know which department we are dealing with\n",
    "\n",
    "For every department we have added the number of documents:"
   ]
  },
  {
   "cell_type": "code",
   "execution_count": 22,
   "metadata": {
    "id": "5uN8Y-wlYDAW"
   },
   "outputs": [],
   "source": [
    "input_slider = alt.binding_range(max = 2022, min = 2010, step = 1)\n",
    "\n",
    "points = alt.Chart(data1).mark_circle(filled = True, size = 60).encode(\n",
    "    x = alt.X('DEPT ACRONIMS:N',  title = \"Departments\", axis = alt.Axis(labelAngle=-45)),\n",
    "    y = alt.Y('count(DEPT ACRONIMS):Q', scale=alt.Scale(domain=(0, 500)),  title = \"Number of articles\"),\n",
    "    color = alt.Color('DEPT ACRONIMS:N', scale = alt.Scale(scheme = 'category20'))\n",
    ").properties(height=400, width = 300).transform_filter(sel_year)\n",
    "\n",
    "lines = alt.Chart(data1).mark_bar(filled = True, size = 5).encode(\n",
    "    x = alt.X('DEPT ACRONIMS:N',  title = \"Departments\", axis = alt.Axis(labelAngle=-45)),\n",
    "    y = alt.Y('count(DEPT ACRONIMS):Q', scale=alt.Scale(domain=(0, 500)),  title = \"Number of articles\"),\n",
    "    color = alt.Color('DEPT ACRONIMS:N', scale = alt.Scale(scheme = 'category20'))\n",
    ").properties(height=400, width = 300).transform_filter(sel_year).properties(title = 'Production of departments per year')\n",
    "\n",
    "text = points.mark_text(\n",
    "    align='center',\n",
    "    baseline='bottom',\n",
    "    dy = -4\n",
    ").encode(\n",
    "    text='count(DEPT ACRONIMS)'\n",
    ").transform_filter(sel_year)\n",
    "\n",
    "mean_y = alt.Chart(data_year_mean).mark_rule(size = 2,color = 'yellow').encode(\n",
    "    y = alt.Y('Mean:Q'),\n",
    "    opacity = alt.value(0.5),\n",
    ").transform_filter(sel_year)\n"
   ]
  },
  {
   "cell_type": "code",
   "execution_count": 23,
   "metadata": {
    "id": "woxWBiDFYFYJ"
   },
   "outputs": [],
   "source": [
    "exercise_5 = (lines+points+text+mean_y).add_selection(sel_year)"
   ]
  },
  {
   "cell_type": "code",
   "execution_count": null,
   "metadata": {
    "colab": {
     "base_uri": "https://localhost:8080/",
     "height": 475
    },
    "id": "hcHZa9hC00T0",
    "outputId": "3545a165-1d36-4b93-e4d8-0fde79071466",
    "scrolled": false
   },
   "outputs": [],
   "source": [
    "exercise_5"
   ]
  },
  {
   "cell_type": "markdown",
   "metadata": {
    "id": "jPW5MaZMZWHe"
   },
   "source": [
    "**QUESTION 6:** \n",
    "\n",
    "Create a chart that communicates the intersection of the selected 10 departments with the areas of research (publications). Restrict to 40 areas of research at most (the ones with more publications). Make it interactive in the following way: the two departments that are highlighted in the initial view must be highlighted here, but the rest of the information must be still visible."
   ]
  },
  {
   "cell_type": "markdown",
   "metadata": {
    "id": "puNPu4mUZXID"
   },
   "source": [
    "First, we have to obtain the 40 areas of research with more articles published.\n",
    "\n",
    "In order to do so first we create new dataset called 'data6' with only the needed columns for the question. "
   ]
  },
  {
   "cell_type": "code",
   "execution_count": 25,
   "metadata": {
    "id": "k4HM5-t_ZcCo"
   },
   "outputs": [],
   "source": [
    "data6 = data_proj2[[\"DEPT ACRONIMS\",\"GRUPS ÀMBITS\",\"ID_ARTICLE\"]]"
   ]
  },
  {
   "cell_type": "markdown",
   "metadata": {
    "id": "WFVUAO-VZd4X"
   },
   "source": [
    "Then, group the areas of research and obtain the total number of articles published per area of research. \n",
    "\n",
    "When trying to do this step, we found out there are many departments that belong to one area of research. That means that the number of publications per area is repeated throughout the areas, because the same department (and number of publications) is in different areas.\n",
    "\n",
    "The following table shows this phenomenon."
   ]
  },
  {
   "cell_type": "code",
   "execution_count": null,
   "metadata": {
    "colab": {
     "base_uri": "https://localhost:8080/",
     "height": 455
    },
    "id": "lcnpRwF0Zf-d",
    "outputId": "d0dd3f51-5752-450b-b653-2a2d9f677c8a"
   },
   "outputs": [],
   "source": [
    "data62 = data6.groupby([\"GRUPS ÀMBITS\"],sort=True)[\"DEPT ACRONIMS\"].unique().to_frame()\n",
    "data62"
   ]
  },
  {
   "cell_type": "markdown",
   "metadata": {
    "id": "nf14dOZnZiNL"
   },
   "source": [
    "So, instead of only counting the publications of the areas of research, we also grouped by departments. This way we got the number of articles published by area and department."
   ]
  },
  {
   "cell_type": "code",
   "execution_count": 27,
   "metadata": {
    "id": "tzh8-6AnZkLN"
   },
   "outputs": [],
   "source": [
    "data61 = data6.groupby([\"GRUPS ÀMBITS\",\"DEPT ACRONIMS\"],sort=True)[\"ID_ARTICLE\"].unique().to_frame().reset_index().rename(columns={\"ID_ARTICLE\":\"NUM PAPERS\"})\n",
    "data61[\"NUM PAPERS\"] = [len(data61[\"NUM PAPERS\"][i]) for i in range(len(data61)) ]"
   ]
  },
  {
   "cell_type": "markdown",
   "metadata": {
    "id": "9rNOc3xWZmSX"
   },
   "source": [
    "The goal of these steps was to obtain the 40 areas of research with more articles published, so we filter the previously defined data set 'data62' with the areas that have at least 40 papers published. This filter reduced the number of areas to aproximately 40."
   ]
  },
  {
   "cell_type": "code",
   "execution_count": 28,
   "metadata": {
    "id": "vJuYa90FZoVW"
   },
   "outputs": [],
   "source": [
    "data63 = data61.loc[data61['NUM PAPERS']>40]"
   ]
  },
  {
   "cell_type": "markdown",
   "metadata": {
    "id": "Ww0crAM0ZqpA"
   },
   "source": [
    "For the interactive part we define the multiple selection."
   ]
  },
  {
   "cell_type": "markdown",
   "metadata": {
    "id": "qFM9yGG6Zs2-"
   },
   "source": [
    "The next step is to plot the chart of the intersection between the 10 selected departments and the 40 areas of research. The departments can be selected interactively by clicking on the legend. \n",
    "\n",
    "Also, a panel with the name of the area of research will appear when the mouse is over the points. We though this would be useful because there are among 40 areas and it may be difficult to read which one belongs to which point."
   ]
  },
  {
   "cell_type": "code",
   "execution_count": 29,
   "metadata": {
    "id": "slWQ9YpAZyY2"
   },
   "outputs": [],
   "source": [
    "# Condition of the cross selection\n",
    "color = alt.condition(multi_sel, \n",
    "                      alt.Color('DEPT ACRONIMS:N',scale=alt.Scale(scheme='paired'), title = \"Departments\"),\n",
    "                      alt.value('lightgray'))\n",
    "\n",
    "# Scatterplot of intersection between areas and departments\n",
    "plot6 = alt.Chart(data63).mark_circle().encode(\n",
    "    alt.X('GRUPS ÀMBITS:N', axis=alt.Axis(labelFontSize=9, labelAngle=-45), title = \"Fields groups\"),\n",
    "    alt.Y('DEPT ACRONIMS:N', axis=alt.Axis(labelFontSize=9), title = \"Departments\"),\n",
    "    color = color,\n",
    "    detail = 'GRUPS ÀMBITS:N',\n",
    "    tooltip = ['GRUPS ÀMBITS']\n",
    ").properties(\n",
    "    title = 'Intersection between Departments and Areas of Research',\n",
    "    width = 700, height = 150\n",
    ").transform_filter(multi_sel).properties(width=800,height=400)\n",
    "\n",
    "# Line plot of each department\n",
    "plot6line = alt.Chart(data63).mark_line().encode(\n",
    "    alt.X('GRUPS ÀMBITS:N'),\n",
    "    alt.Y('DEPT ACRONIMS:N'),\n",
    "    color = color\n",
    ").properties(width=800,height=400)\n",
    "\n",
    "# Combined plot\n",
    "plot61 = plot6+plot6line\n",
    "exercise_6 = plot61.interactive().add_selection(multi_sel)"
   ]
  },
  {
   "cell_type": "code",
   "execution_count": null,
   "metadata": {
    "colab": {
     "base_uri": "https://localhost:8080/",
     "height": 596
    },
    "id": "nNNUXWEG00T4",
    "outputId": "6849e3c7-5f2e-4201-e38a-c50af2712e77",
    "scrolled": false
   },
   "outputs": [],
   "source": [
    "exercise_6"
   ]
  },
  {
   "cell_type": "code",
   "execution_count": null,
   "metadata": {
    "colab": {
     "base_uri": "https://localhost:8080/",
     "height": 1000
    },
    "id": "vl5zQ_PF00T4",
    "outputId": "cfd26cd2-3660-401c-e383-91441449ebee"
   },
   "outputs": [],
   "source": [
    "part1 = alt.HConcatChart(hconcat=(exercise_5, exercise_1))\n",
    "part2 = alt.HConcatChart(hconcat=(part1, exercise_6))\n",
    "part3 = alt.HConcatChart(hconcat=(ex, plot42)).properties(resolve = alt.Resolve(scale=alt.LegendResolveMap(color=alt.ResolveMode('independent'))))\n",
    "part4 = alt.VConcatChart(vconcat=(part2, part3))\n",
    "part4"
   ]
  }
 ],
 "metadata": {
  "colab": {
   "provenance": []
  },
  "kernelspec": {
   "display_name": "Python 3 (ipykernel)",
   "language": "python",
   "name": "python3"
  },
  "language_info": {
   "codemirror_mode": {
    "name": "ipython",
    "version": 3
   },
   "file_extension": ".py",
   "mimetype": "text/x-python",
   "name": "python",
   "nbconvert_exporter": "python",
   "pygments_lexer": "ipython3",
   "version": "3.9.12"
  },
  "vscode": {
   "interpreter": {
    "hash": "957668f77d739aed3606dc0cb3e6b9836150d21e7c3a979985571ea2faa3bd84"
   }
  }
 },
 "nbformat": 4,
 "nbformat_minor": 1
}
